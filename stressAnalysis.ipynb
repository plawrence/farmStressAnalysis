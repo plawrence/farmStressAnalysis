{
 "metadata": {
  "name": "stressanalysis.ipynb"
 },
 "nbformat": 3,
 "nbformat_minor": 0,
 "worksheets": [
  {
   "cells": [
    {
     "cell_type": "heading",
     "level": 1,
     "metadata": {},
     "source": [
      "NGP Wheat Farming Price and Precipitation Stress Analysis"
     ]
    },
    {
     "cell_type": "markdown",
     "metadata": {},
     "source": [
      "In the code below, I document my process of analyzing historical stressors for large-scale wheat farms in the Northern Great Plains.  To perform the analysis, I draw upon wheat and Nitrogen price data from the USDA, Palmer z-index (a drought index) data from the National Climatic Data Center (NCDC), and census data from the USDA National Ag Statistics Service (NASS).  Since two of the major inputs into dryland wheat production systems are N (controlled), and precipitation (uncontrolled), it would be useful to know how these two factors influence the decision-making, adaptability, and willingness to experiment of farmers.  I hypothesize that as the time since stress increases, farmers become less concerned with adaptations to avoid that source of stress.  For example, if there was a drought last year, farmers would be highly interested in alternative management strategies that could help them avoid the impacts of reduced moisture.  As the time since that drought increased, they would become more and more complacent, perhaps focusing on other stressors that were more immediate (especially given their typical 1-2 yr planning time horizons).  "
     ]
    },
    {
     "cell_type": "markdown",
     "metadata": {},
     "source": [
      "With this knowledge, it would be possible both to understand the physical stressors that may drive adaptability, but also to take advantage of the associated psychological processes.  If it had been a long time since a drought, but the N-wheat price ratio was relatively high, then trying to promote alternative management strategies with the stated goal of drought mitigation would be pointless.  Instead, it would make more sense to emphasize the benefits of a practice such as crop rotation for the purpose of reducing N inputs, rather than as a water use minimization strategy."
     ]
    },
    {
     "cell_type": "markdown",
     "metadata": {},
     "source": [
      "The final part of this analysis is intended to feed into my assessment of resilience.  How resilient are farmers to drought and changes in prices.  Do they have many options available?  If not (which appears to be the case), how could we promote the use of alternative crops/management that simultaneously fit our goals for sustainability?  What would be the most effective avenues or information channels to promote those alternatives?  This final bit gets into the sociological methods."
     ]
    },
    {
     "cell_type": "heading",
     "level": 3,
     "metadata": {},
     "source": [
      "Analysis in Python, using the pandas and matplotlib packages"
     ]
    },
    {
     "cell_type": "markdown",
     "metadata": {},
     "source": [
      "Import the required libraries"
     ]
    },
    {
     "cell_type": "code",
     "collapsed": false,
     "input": [
      "import pandas as pd"
     ],
     "language": "python",
     "metadata": {},
     "outputs": [],
     "prompt_number": 1
    },
    {
     "cell_type": "markdown",
     "metadata": {},
     "source": [
      "Load the data files.  Note that I originally used pdsi instead of the palmer z-index, hence pdsi is the name of the dataframe, even though I am using a different index (Z-index is more correlated to yields - Quiring(2003))."
     ]
    },
    {
     "cell_type": "code",
     "collapsed": true,
     "input": [
      "nPrices = pd.read_csv('C:/Users/patrick.lawrence.MSU/Documents/models/stress_analysis/nPrices_cleaned.csv',index_col='Year')\n",
      "wPrices = pd.read_csv('C:/Users/patrick.lawrence.MSU/Documents/models/stress_analysis/wPrices_cleaned.csv',index_col='mkt_yr')\n",
      "pzi = pd.read_csv('C:/Users/patrick.lawrence.MSU/Documents/models/stress_analysis/palmer_z_cleaned.csv')"
     ],
     "language": "python",
     "metadata": {},
     "outputs": [],
     "prompt_number": 2
    },
    {
     "cell_type": "markdown",
     "metadata": {},
     "source": [
      "First, we need to remove white space in the month data field for the fertilizer dataset."
     ]
    },
    {
     "cell_type": "code",
     "collapsed": false,
     "input": [
      "nPrices['Month'] = nPrices['Month'].apply(lambda x: x.strip(' '))"
     ],
     "language": "python",
     "metadata": {},
     "outputs": [],
     "prompt_number": 3
    },
    {
     "cell_type": "markdown",
     "metadata": {},
     "source": [
      "With the data files loaded, now we want to convert the fertilizer prices from dollars per lb to dollars per short ton to dollars per kg.  Furthermore, we should probably be using the April or March fertilizer prices (as opposed to September) when available since that is more likely to be the time when farmers purchase fertilizer.  We also want to convert wheat prices from dollars per bushel to dollars per kg.  Note that we'll just use the average yearly HRWW prices for now (may want to change later)."
     ]
    },
    {
     "cell_type": "code",
     "collapsed": false,
     "input": [
      "nPrices = nPrices[nPrices['Month'].isin(['Apr.','Mar.'])]"
     ],
     "language": "python",
     "metadata": {},
     "outputs": [],
     "prompt_number": 4
    },
    {
     "cell_type": "code",
     "collapsed": false,
     "input": [
      "nPrices['Urea_Price'] = nPrices['Urea_Price']/907.185\n",
      "wPrices['HRWW_Avg'] = wPrices['HRWW_Avg']/27.2155"
     ],
     "language": "python",
     "metadata": {},
     "outputs": [],
     "prompt_number": 5
    },
    {
     "cell_type": "markdown",
     "metadata": {},
     "source": [
      "We also need to average the Palmer Z-Index data in some respect for each year.  Let's try averaging the PZI for the primary growing season, April through August (can change later)."
     ]
    },
    {
     "cell_type": "code",
     "collapsed": false,
     "input": [
      "#Replace values of -99.999999 with null\n",
      "pzi[pzi<-50] = NaN\n",
      "Avg = pd.Series([pzi.ix[x,\"Apr\":\"Aug\"].mean(axis=1,skipna=True) for x in pzi.index],name=\"Avg\")"
     ],
     "language": "python",
     "metadata": {},
     "outputs": [],
     "prompt_number": 6
    },
    {
     "cell_type": "code",
     "collapsed": false,
     "input": [
      "pzi['Avg'] = Avg"
     ],
     "language": "python",
     "metadata": {},
     "outputs": [],
     "prompt_number": 7
    },
    {
     "cell_type": "markdown",
     "metadata": {},
     "source": [
      "Mext we calculate the ratio of the price of N to the price of wheat."
     ]
    },
    {
     "cell_type": "code",
     "collapsed": false,
     "input": [
      "nwpriceratio = nPrices['Urea_Price']/wPrices.ix['1960/61':,'HRWW_Avg'].values"
     ],
     "language": "python",
     "metadata": {},
     "outputs": [],
     "prompt_number": 8
    },
    {
     "cell_type": "code",
     "collapsed": false,
     "input": [
      "wPrices.ix['1960/61':,'HRWW_Avg'].head()"
     ],
     "language": "python",
     "metadata": {},
     "outputs": [
      {
       "output_type": "pyout",
       "prompt_number": 9,
       "text": [
        "mkt_yr\n",
        "1960/61    0.064302\n",
        "1961/62    0.066874\n",
        "1962/63    0.073855\n",
        "1963/64    0.070181\n",
        "1964/65    0.051441\n",
        "Name: HRWW_Avg, dtype: float64"
       ]
      }
     ],
     "prompt_number": 9
    },
    {
     "cell_type": "code",
     "collapsed": false,
     "input": [
      "plot(nPrices.index,nwpriceratio)\n",
      "xlabel(\"Year\")\n",
      "ylabel(\"Price Ratio\")"
     ],
     "language": "python",
     "metadata": {},
     "outputs": [
      {
       "output_type": "pyout",
       "prompt_number": 10,
       "text": [
        "<matplotlib.text.Text at 0x873a5f8>"
       ]
      },
      {
       "output_type": "display_data",
       "png": "[encoded data removed]",
       "text": [
        "<matplotlib.figure.Figure at 0x867dbe0>"
       ]
      }
     ],
     "prompt_number": 10
    },
    {
     "cell_type": "markdown",
     "metadata": {},
     "source": [
      "Ok, now let's calculate deviations from the average to see how far the N/W price ratio and how far the pdsi have gone astray.  Remember that negative values for PDSI imply greater drought."
     ]
    },
    {
     "cell_type": "code",
     "collapsed": false,
     "input": [
      "pzideviations = (pzi.Avg-mean(pzi.Avg))/std(pzi.Avg)\n",
      "pzi['dev'] = pdsideviations\n",
      "nwprdeviations = (nwpriceratio-nwpriceratio.mean())/std(nwpriceratio)\n",
      "nwpriceratio = pd.DataFrame(nwpriceratio,columns=['ratio'])\n",
      "nwpriceratio['dev'] = nwprdeviations"
     ],
     "language": "python",
     "metadata": {},
     "outputs": [
      {
       "ename": "NameError",
       "evalue": "name 'pdsideviations' is not defined",
       "output_type": "pyerr",
       "traceback": [
        "\u001b[1;31m---------------------------------------------------------------------------\u001b[0m\n\u001b[1;31mNameError\u001b[0m                                 Traceback (most recent call last)",
        "\u001b[1;32m<ipython-input-11-041da74fede0>\u001b[0m in \u001b[0;36m<module>\u001b[1;34m()\u001b[0m\n\u001b[0;32m      1\u001b[0m \u001b[0mpzideviations\u001b[0m \u001b[1;33m=\u001b[0m \u001b[1;33m(\u001b[0m\u001b[0mpzi\u001b[0m\u001b[1;33m.\u001b[0m\u001b[0mAvg\u001b[0m\u001b[1;33m-\u001b[0m\u001b[0mmean\u001b[0m\u001b[1;33m(\u001b[0m\u001b[0mpzi\u001b[0m\u001b[1;33m.\u001b[0m\u001b[0mAvg\u001b[0m\u001b[1;33m)\u001b[0m\u001b[1;33m)\u001b[0m\u001b[1;33m/\u001b[0m\u001b[0mstd\u001b[0m\u001b[1;33m(\u001b[0m\u001b[0mpzi\u001b[0m\u001b[1;33m.\u001b[0m\u001b[0mAvg\u001b[0m\u001b[1;33m)\u001b[0m\u001b[1;33m\u001b[0m\u001b[0m\n\u001b[1;32m----> 2\u001b[1;33m \u001b[0mpzi\u001b[0m\u001b[1;33m[\u001b[0m\u001b[1;34m'dev'\u001b[0m\u001b[1;33m]\u001b[0m \u001b[1;33m=\u001b[0m \u001b[0mpdsideviations\u001b[0m\u001b[1;33m\u001b[0m\u001b[0m\n\u001b[0m\u001b[0;32m      3\u001b[0m \u001b[0mnwprdeviations\u001b[0m \u001b[1;33m=\u001b[0m \u001b[1;33m(\u001b[0m\u001b[0mnwpriceratio\u001b[0m\u001b[1;33m-\u001b[0m\u001b[0mnwpriceratio\u001b[0m\u001b[1;33m.\u001b[0m\u001b[0mmean\u001b[0m\u001b[1;33m(\u001b[0m\u001b[1;33m)\u001b[0m\u001b[1;33m)\u001b[0m\u001b[1;33m/\u001b[0m\u001b[0mstd\u001b[0m\u001b[1;33m(\u001b[0m\u001b[0mnwpriceratio\u001b[0m\u001b[1;33m)\u001b[0m\u001b[1;33m\u001b[0m\u001b[0m\n\u001b[0;32m      4\u001b[0m \u001b[0mnwpriceratio\u001b[0m \u001b[1;33m=\u001b[0m \u001b[0mpd\u001b[0m\u001b[1;33m.\u001b[0m\u001b[0mDataFrame\u001b[0m\u001b[1;33m(\u001b[0m\u001b[0mnwpriceratio\u001b[0m\u001b[1;33m,\u001b[0m\u001b[0mcolumns\u001b[0m\u001b[1;33m=\u001b[0m\u001b[1;33m[\u001b[0m\u001b[1;34m'ratio'\u001b[0m\u001b[1;33m]\u001b[0m\u001b[1;33m)\u001b[0m\u001b[1;33m\u001b[0m\u001b[0m\n\u001b[0;32m      5\u001b[0m \u001b[0mnwpriceratio\u001b[0m\u001b[1;33m[\u001b[0m\u001b[1;34m'dev'\u001b[0m\u001b[1;33m]\u001b[0m \u001b[1;33m=\u001b[0m \u001b[0mnwprdeviations\u001b[0m\u001b[1;33m\u001b[0m\u001b[0m\n",
        "\u001b[1;31mNameError\u001b[0m: name 'pdsideviations' is not defined"
       ]
      }
     ],
     "prompt_number": 11
    },
    {
     "cell_type": "code",
     "collapsed": false,
     "input": [
      "plot(pzi['Year'][65:],-pzi['dev'][65:])"
     ],
     "language": "python",
     "metadata": {},
     "outputs": []
    },
    {
     "cell_type": "code",
     "collapsed": false,
     "input": [
      "plot(nPrices.index,nwpriceratio['dev'])"
     ],
     "language": "python",
     "metadata": {},
     "outputs": []
    },
    {
     "cell_type": "markdown",
     "metadata": {},
     "source": [
      "Ok, now let's try seeing the cumulative effects in a simplistic, additive fashion.  Note that the pdsi values need to be reversed to make sense.  In this case, the more positive = the more stress."
     ]
    },
    {
     "cell_type": "code",
     "collapsed": false,
     "input": [
      "totalstress = -pzi[pzi['Year']>=1960][:-1]['dev'].values+nwpriceratio['dev'].values\n",
      "#totalstress.reset_index(arange(1960,2014),drop=True,name='dev')\n",
      "totalstress = pd.Series(totalstress,index=arange(1960,2014))"
     ],
     "language": "python",
     "metadata": {},
     "outputs": []
    },
    {
     "cell_type": "code",
     "collapsed": false,
     "input": [
      "plot(totalstress.index,totalstress,label=\"Total Stress\")\n",
      "plot(nPrices.index,nwpriceratio['dev'],'-g',alpha=.5,label=\"N-W pr ratio deviations\")\n",
      "plot(pzi['Year'][65:],-pzi['dev'][65:],'-y',alpha=.6,label=\"Palmer z-index\")\n",
      "xlim(1960,2013)\n",
      "hlines(0,1960,2020,linestyles='dashed')\n",
      "legend(loc='upper left')"
     ],
     "language": "python",
     "metadata": {},
     "outputs": []
    },
    {
     "cell_type": "markdown",
     "metadata": {},
     "source": [
      "Note:  Just to check, I plotted the palmer z-index against my growing season precip data from Sun River, and they seem to match up reasonably well, which is encouraging.  I wouldn't expect full correspondence, since the z-index is for the whole of region 3 (approx. the NGP in Montana).  See Quiring (2003) in Ag and Forest Meteorology for why I used the z-index."
     ]
    },
    {
     "cell_type": "markdown",
     "metadata": {},
     "source": [
      "In order to place the impact of the N-Wheat price ratio deviations into context, it would be helpful to know the average farmers' dependence on [exposure to] N, relative to the total yields on their farm.  If their dependence on N is high, this would have a lower impact for smaller acreages than larger acreages.  A smaller-scale farmer would have the same relative exposure on a per-acre basis, but a much lower exposure over the entire farm acreage.\n",
      "\n",
      "To get a handle on this, we need to know average farm size, and the quantity of N applied per acre.  We will assume that yields do not vary much by farm size.  Obviously, the data probably don't exist to assess the amounts of applied N per acre by farm size.  However, we're more interested in average exposures to N-Wheat price ratio fluctuations, so averages may be sufficient.\n",
      "\n",
      "Let's start by examining farm sizes (for small-grains farms), as those are the most straightforward data."
     ]
    },
    {
     "cell_type": "code",
     "collapsed": false,
     "input": [
      "censusdata = pd.read_csv('C:/Users/patrick.lawrence.MSU/Documents/models/stress_analysis/census_cleaned.csv',index_col='Year')"
     ],
     "language": "python",
     "metadata": {},
     "outputs": []
    },
    {
     "cell_type": "code",
     "collapsed": false,
     "input": [
      "plot(censusdata.index,censusdata.FS_1_49+censusdata.FS_50_99,label=\"small farms (<100 ac)\")\n",
      "plot(censusdata.index,censusdata.FS_100_199+censusdata.FS_200_499,label=\"sm-mid farms (100-500 ac)\")\n",
      "plot(censusdata.index,censusdata.FS_500_999,label=\"mid farms (500-1k ac)\")\n",
      "plot(censusdata.index,censusdata.FS_1000_1999,label=\"mid-lg farms (1k-2k ac)\")\n",
      "plot(censusdata.index,censusdata.FS_gt_2000,label=\"lg farms (2k+ ac)\")\n",
      "legend(loc=\"upper right\")"
     ],
     "language": "python",
     "metadata": {},
     "outputs": []
    },
    {
     "cell_type": "markdown",
     "metadata": {},
     "source": [
      "It appears that while there has been an uptick in all farms (aside from mid-large) from 2005 to 2010, the overarching trend since 1960 has been for a decline in the number of small-mid and mid-size farms, and an increase in the number of large farms (mid-large have remained constant).  \n",
      "\n",
      "For fertilizer data, I will first assimilate data from Rick Engle on the amount of fertilizer used by year (Across all crops) since 1970.  We will bring in the Ammonium Nitrate, Ammonium Sulfate, Anhydrous NH3 and Urea quantities applied over ALL cropped acres (assuming most are in small grains).  Initial units are thousands of MT (Metric Tons; for the entire state)."
     ]
    },
    {
     "cell_type": "code",
     "collapsed": false,
     "input": [
      "nQuantity = pd.read_csv('C:/Users/patrick.lawrence.MSU/Documents/models/stress_analysis/nQuantity_cleaned.csv',index_col='Year')"
     ],
     "language": "python",
     "metadata": {},
     "outputs": []
    },
    {
     "cell_type": "markdown",
     "metadata": {},
     "source": [
      "First, I will display the evolution of N use by type from 1970 onwards."
     ]
    },
    {
     "cell_type": "code",
     "collapsed": false,
     "input": [
      "plot(nQuantity.index,nQuantity.Urea_MT,label=\"Urea ('000 MT)\")\n",
      "plot(nQuantity.index,nQuantity.AN_MT,label=\"Ammonium Nitrate\")\n",
      "plot(nQuantity.index,nQuantity.AS_MT,label=\"Ammonium Sulfate\")\n",
      "plot(nQuantity.index,nQuantity.Anhydrous_MT,label=\"Anhydrous NH3\")\n",
      "legend(loc=\"upper left\")"
     ],
     "language": "python",
     "metadata": {},
     "outputs": []
    },
    {
     "cell_type": "markdown",
     "metadata": {},
     "source": [
      "From these fertilizer data, we then need to know the amount of applied product per acre.  Thus we will need to divide the total fertilizer quantities by the total number of small grains acres.  Note - switching '000 MT to kg requires multiplication by 1 million."
     ]
    },
    {
     "cell_type": "code",
     "collapsed": false,
     "input": [
      "temp_peracre = pd.DataFrame({'Urea_acre':(nQuantity.Urea_MT*1000000/censusdata.cg_cropland_farms).dropna(),'AN_acre':(nQuantity.AN_MT*1000000/censusdata.cg_cropland_farms).dropna(),\n",
      "                            'AS_acre':(nQuantity.AS_MT*1000000/censusdata.cg_cropland_farms).dropna(),'Anhydrous_acre':(nQuantity.Anhydrous_MT*1000000/censusdata.cg_cropland_farms).dropna()})\n",
      "#temp_peracre.columns = ['Urea_acre','AN_acre','AS_acre','Anhydrous_acre']\n",
      "censusdata = pd.merge(censusdata,temp_peracre,left_index=True,right_index=True,how='outer')\n"
     ],
     "language": "python",
     "metadata": {},
     "outputs": []
    },
    {
     "cell_type": "markdown",
     "metadata": {},
     "source": [
      "Let's take a quick look at the per acre usage."
     ]
    },
    {
     "cell_type": "code",
     "collapsed": false,
     "input": [
      "plot(censusdata.index,censusdata.Urea_acre,label=\"Urea per acre (kg)\")\n",
      "plot(censusdata.index,censusdata.AN_acre,label=\"AN per acre\")\n",
      "plot(censusdata.index,censusdata.AS_acre,label=\"AS per acre\")\n",
      "plot(censusdata.index,censusdata.Anhydrous_acre,label=\"Anhyd per acre\")\n",
      "legend(loc=\"upper left\")"
     ],
     "language": "python",
     "metadata": {},
     "outputs": []
    },
    {
     "cell_type": "markdown",
     "metadata": {},
     "source": [
      "Now that we have the kg/acre of each product, we can calculate the amount of each product for each class of farm (using the size mid-points for now).  Note that I'm keeping the fert types separate now due to different historical prices."
     ]
    },
    {
     "cell_type": "code",
     "collapsed": false,
     "input": [
      "censusdata['smallQ_urea'] = censusdata.Urea_acre*50\n",
      "censusdata['smmidQ_urea'] = censusdata.Urea_acre*300\n",
      "censusdata['midQ_urea'] = censusdata.Urea_acre*750\n",
      "censusdata['midlgQ_urea'] = censusdata.Urea_acre*1500\n",
      "censusdata['lgQ_urea'] = censusdata.Urea_acre*3000\n",
      "censusdata['smallQ_AN'] = censusdata.AN_acre*50\n",
      "censusdata['smmidQ_AN'] = censusdata.AN_acre*300\n",
      "censusdata['midQ_AN'] = censusdata.AN_acre*750\n",
      "censusdata['midlgQ_AN'] = censusdata.AN_acre*1500\n",
      "censusdata['lgQ_AN'] = censusdata.AN_acre*3000\n",
      "censusdata['smallQ_AS'] = censusdata.AS_acre*50\n",
      "censusdata['smmidQ_AS'] = censusdata.AS_acre*300\n",
      "censusdata['midQ_AS'] = censusdata.AS_acre*750\n",
      "censusdata['midlgQ_AS'] = censusdata.AS_acre*1500\n",
      "censusdata['lgQ_AS'] = censusdata.AS_acre*3000\n",
      "censusdata['smallQ_Anhydrous'] = censusdata.Anhydrous_acre*50\n",
      "censusdata['smmidQ_Anhydrous'] = censusdata.Anhydrous_acre*300\n",
      "censusdata['midQ_Anhydrous'] = censusdata.Anhydrous_acre*750\n",
      "censusdata['midlgQ_Anhydrous'] = censusdata.Anhydrous_acre*1500\n",
      "censusdata['lgQ_Anhydrous'] = censusdata.Anhydrous_acre*3000"
     ],
     "language": "python",
     "metadata": {},
     "outputs": []
    },
    {
     "cell_type": "markdown",
     "metadata": {},
     "source": [
      "Now we can calculate the entire exposure per farm size class, with the different fert historical prices factored in."
     ]
    },
    {
     "cell_type": "code",
     "collapsed": false,
     "input": [
      "nPrices.index=range(1960,2014)\n",
      "censusdata['smallQ_exp'] = censusdata.smallQ_urea*nPrices.Urea_Price + censusdata.smallQ_AN*nPrices.AN_Price + censusdata.smallQ_AS*nPrices.AS_Price + censusdata.smallQ_Anhydrous*nPrices.Anhydrous_Price\n",
      "censusdata['smmidQ_exp'] = censusdata.smmidQ_urea*nPrices.Urea_Price + censusdata.smmidQ_AN*nPrices.AN_Price + censusdata.smmidQ_AS*nPrices.AS_Price + censusdata.smmidQ_Anhydrous*nPrices.Anhydrous_Price\n",
      "censusdata['midQ_exp'] = censusdata.midQ_urea*nPrices.Urea_Price + censusdata.midQ_AN*nPrices.AN_Price + censusdata.midQ_AS*nPrices.AS_Price + censusdata.midQ_Anhydrous*nPrices.Anhydrous_Price\n",
      "censusdata['midlgQ_exp'] = censusdata.midlgQ_urea*nPrices.Urea_Price + censusdata.midlgQ_AN*nPrices.AN_Price + censusdata.midlgQ_AS*nPrices.AS_Price + censusdata.midlgQ_Anhydrous*nPrices.Anhydrous_Price\n",
      "censusdata['lgQ_exp'] = censusdata.lgQ_urea*nPrices.Urea_Price + censusdata.lgQ_AN*nPrices.AN_Price + censusdata.lgQ_AS*nPrices.AS_Price + censusdata.lgQ_Anhydrous*nPrices.Anhydrous_Price"
     ],
     "language": "python",
     "metadata": {},
     "outputs": []
    },
    {
     "cell_type": "code",
     "collapsed": false,
     "input": [
      "plot(censusdata.index,censusdata.smallQ_exp,label=\"small farms\")\n",
      "plot(censusdata.index,censusdata.smmidQ_exp,label=\"sm-mid farms\")\n",
      "plot(censusdata.index,censusdata.midQ_exp,label=\"mid farms\")\n",
      "plot(censusdata.index,censusdata.midlgQ_exp,label=\"mid-lg farms\")\n",
      "plot(censusdata.index,censusdata.lgQ_exp,label=\"lg farms\")\n",
      "legend(loc=\"upper left\")"
     ],
     "language": "python",
     "metadata": {},
     "outputs": []
    },
    {
     "cell_type": "markdown",
     "metadata": {},
     "source": [
      "Ok, so while it's clear that large farm gross exposure is much higher, it's probably more appropriate to think of their exposure relative to their net revenue, or something like that.  Small farms have less exposure, but it may impact them more."
     ]
    },
    {
     "cell_type": "code",
     "collapsed": false,
     "input": [],
     "language": "python",
     "metadata": {},
     "outputs": []
    },
    {
     "cell_type": "code",
     "collapsed": false,
     "input": [],
     "language": "python",
     "metadata": {},
     "outputs": []
    },
    {
     "cell_type": "code",
     "collapsed": false,
     "input": [],
     "language": "python",
     "metadata": {},
     "outputs": []
    },
    {
     "cell_type": "markdown",
     "metadata": {},
     "source": [
      "Ok, so now that we understand farmers' exposure to drought, it may be pertinent to dive into the sociological data.  Ultimately, we want to know how resilient farmers are to major stressors.  From my previous interviews, it quickly became apparent that the stressors (originally considered for the Western SARE project) of weeds and spatial variability have minimal impact on decision-making compared to drought, N prices, and wheat prices.  Therefore, I will focus on these three primary stressors.  To do so, I will first try to understand how many options farmers currently have for dealing with them.  Second, I will try to understand how easy it is for farmers to access new options, and how that learning process occurs.  Third, I will combine the number of options and the learning pathways into one comprehensive assessment of adaptability.  I will argue that, depending on the potential magnitude and bioeconomic impacts of the three primary stressors, greater adaptability may lead to high enough resilience to weather drastic changes in the stressors.  Finally, I will address the question of whether or not temporal proximity to stress increases psychological sensitivity to that stress, and whether that proximity ultimately influences how likely farmers are to improve their adaptability in response to that stress.  This concept of temporal proximity could then be used as a leverage point for promoting alternative practices.\n",
      "\n",
      "How many many options "
     ]
    },
    {
     "cell_type": "code",
     "collapsed": false,
     "input": [],
     "language": "python",
     "metadata": {},
     "outputs": []
    },
    {
     "cell_type": "code",
     "collapsed": false,
     "input": [],
     "language": "python",
     "metadata": {},
     "outputs": []
    }
   ],
   "metadata": {}
  }
 ]
}